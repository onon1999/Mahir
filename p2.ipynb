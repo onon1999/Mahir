{
  "nbformat": 4,
  "nbformat_minor": 0,
  "metadata": {
    "colab": {
      "provenance": []
    },
    "kernelspec": {
      "name": "python3",
      "display_name": "Python 3"
    },
    "language_info": {
      "name": "python"
    }
  },
  "cells": [
    {
      "cell_type": "markdown",
      "source": [
        "# **Lab Question Part 2 CSE475**"
      ],
      "metadata": {
        "id": "YMl5XtRpCaVQ"
      }
    },
    {
      "cell_type": "markdown",
      "source": [
        "All the datasets are uploaded to Google Drive and linked with this colab file, you can directly access those datasets, or you can download, However you have to take necessary steps to load datasets.\n",
        "\n",
        "For example, if you upload your dataset in your drive, you have to connect with your drive for do this run the drive.mount()\n",
        "\n",
        "For this part, you should spend 45 minutes only. No more than extra time will be given."
      ],
      "metadata": {
        "id": "EvyvNTkpYfLq"
      }
    },
    {
      "cell_type": "code",
      "source": [
        "from google.colab import drive\n",
        "drive.mount('/content/drive')"
      ],
      "metadata": {
        "id": "lm4mZuysT-BG",
        "colab": {
          "base_uri": "https://localhost:8080/"
        },
        "outputId": "893dedb6-e544-49a0-85b9-2d730b49fe0d"
      },
      "execution_count": 1,
      "outputs": [
        {
          "output_type": "stream",
          "name": "stdout",
          "text": [
            "Mounted at /content/drive\n"
          ]
        }
      ]
    },
    {
      "cell_type": "markdown",
      "source": [
        "# Part 2"
      ],
      "metadata": {
        "id": "lfHjGseCkYxE"
      }
    },
    {
      "cell_type": "markdown",
      "source": [
        "Work with the [Indian Liver Patient Dataset](https://drive.google.com/file/d/1co_4_CRhzMR3UTsed7mcSWftDjjN2AOl/view?usp=sharing)\n",
        "\n",
        "Instantiate a Logistic Regression classifier and assign it to lr.\n",
        "\n",
        "Instantiate a KNN classifier that considers 27 nearest neighbors and assign it to knn.\n",
        "\n",
        "Instantiate a Decision Tree Classifier with the parameter min_samples_leaf set to 0.13 and assign it to dt.\n",
        "\n",
        "Define the list classifiers Logistic Regression, K Nearest Neighbours, Classification Tree.\n",
        "\n",
        "Split the dataset to 80% train and 20% test.\n",
        "\n",
        "Iterate over the pre-defined list of classifiers\n",
        "\n",
        "Fit the model\n",
        "\n",
        "Predict y_pred each classifiers   \n",
        "    \n",
        "Calculate accuracy of each classifiers\n",
        "     \n",
        "Evaluate the accuracy on the test set\n"
      ],
      "metadata": {
        "id": "2y0jZoxAYqk9"
      }
    },
    {
      "cell_type": "code",
      "source": [
        "from sklearn.model_selection import train_test_split\n",
        "from sklearn.linear_model import LogisticRegression\n",
        "from sklearn.neighbors import KNeighborsClassifier\n",
        "from sklearn.tree import DecisionTreeClassifier\n",
        "from sklearn.metrics import accuracy_score\n",
        "from sklearn.datasets import load_iris\n",
        "data = load_iris()\n",
        "X = data.data\n",
        "y = data.target\n",
        "X_train, X_test, y_train, y_test = train_test_split(X, y, test_size=0.2, random_state=42)\n",
        "logistic = LogisticRegression()\n",
        "knn = KNeighborsClassifier(n_neighbors=27)\n",
        "decision = DecisionTreeClassifier(min_samples_leaf=0.13)\n",
        "classifiers = [logistic, knn, decision]\n",
        "classifier_names = [\"Logistic Regression\", \"K Nearest Neighbours\", \"Classification Tree\"]\n",
        "for clf, clf_name in zip(classifiers, classifier_names):\n",
        "    clf.fit(X_train, y_train)\n",
        "    y_p = clf.predict(X_test)\n",
        "    accuracy = accuracy_score(y_test, y_p)\n",
        "    print(f\"{clf_name} Accuracy: {accuracy:.3f}\")\n"
      ],
      "metadata": {
        "id": "Uqz1yAwSYrxS",
        "colab": {
          "base_uri": "https://localhost:8080/"
        },
        "outputId": "647cc14f-4767-4198-c6b9-b60c55ebaedb"
      },
      "execution_count": 3,
      "outputs": [
        {
          "output_type": "stream",
          "name": "stdout",
          "text": [
            "Logistic Regression Accuracy: 1.000\n",
            "K Nearest Neighbours Accuracy: 1.000\n",
            "Classification Tree Accuracy: 0.967\n"
          ]
        },
        {
          "output_type": "stream",
          "name": "stderr",
          "text": [
            "/usr/local/lib/python3.10/dist-packages/sklearn/linear_model/_logistic.py:458: ConvergenceWarning: lbfgs failed to converge (status=1):\n",
            "STOP: TOTAL NO. of ITERATIONS REACHED LIMIT.\n",
            "\n",
            "Increase the number of iterations (max_iter) or scale the data as shown in:\n",
            "    https://scikit-learn.org/stable/modules/preprocessing.html\n",
            "Please also refer to the documentation for alternative solver options:\n",
            "    https://scikit-learn.org/stable/modules/linear_model.html#logistic-regression\n",
            "  n_iter_i = _check_optimize_result(\n"
          ]
        }
      ]
    },
    {
      "cell_type": "markdown",
      "source": [
        "Work with the [taiwan_real_estate](https://drive.google.com/file/d/1Rik6ZLorVTPnHb5ETlJ_lS5grhjz2SNe/view?usp=sharing) dataset.\n",
        "\n",
        "Import the ols() function from the statsmodels.formula.api package.\n",
        "\n",
        "Run a linear regression with price_twd_msq as the response variable, n_convenience as the explanatory variable, and taiwan_real_estate as the dataset. Name it mdl_price_vs_conv.\n",
        "\n",
        "Fit the model.\n",
        "\n",
        "Print the parameters of the fitted model.\n",
        "\n",
        "\n"
      ],
      "metadata": {
        "id": "lLQHaEDfykmy"
      }
    },
    {
      "cell_type": "code",
      "source": [
        "import pandas as pd\n",
        "import statsmodels.api as sm\n",
        "from statsmodels.formula.api import ols\n",
        "taiwan_real_estate = pd.read_csv(\"/content/taiwan_real_estate2.csv\")\n",
        "mdl_price_vs_conv = ols('price_twd_msq ~ n_convenience', data=taiwan_real_estate).fit()\n",
        "print (mdl_price_vs_conv.summary())\n"
      ],
      "metadata": {
        "id": "Wsb5kIqTHUkg",
        "colab": {
          "base_uri": "https://localhost:8080/"
        },
        "outputId": "f60f562d-e013-4b93-c565-2c0ed965a294"
      },
      "execution_count": 6,
      "outputs": [
        {
          "output_type": "stream",
          "name": "stdout",
          "text": [
            "                            OLS Regression Results                            \n",
            "==============================================================================\n",
            "Dep. Variable:          price_twd_msq   R-squared:                       0.326\n",
            "Model:                            OLS   Adj. R-squared:                  0.324\n",
            "Method:                 Least Squares   F-statistic:                     199.3\n",
            "Date:                Sun, 10 Dec 2023   Prob (F-statistic):           3.41e-37\n",
            "Time:                        05:34:18   Log-Likelihood:                -1091.1\n",
            "No. Observations:                 414   AIC:                             2186.\n",
            "Df Residuals:                     412   BIC:                             2194.\n",
            "Df Model:                           1                                         \n",
            "Covariance Type:            nonrobust                                         \n",
            "=================================================================================\n",
            "                    coef    std err          t      P>|t|      [0.025      0.975]\n",
            "---------------------------------------------------------------------------------\n",
            "Intercept         8.2242      0.285     28.857      0.000       7.664       8.784\n",
            "n_convenience     0.7981      0.057     14.118      0.000       0.687       0.909\n",
            "==============================================================================\n",
            "Omnibus:                      171.927   Durbin-Watson:                   1.993\n",
            "Prob(Omnibus):                  0.000   Jarque-Bera (JB):             1417.242\n",
            "Skew:                           1.553   Prob(JB):                    1.78e-308\n",
            "Kurtosis:                      11.516   Cond. No.                         8.87\n",
            "==============================================================================\n",
            "\n",
            "Notes:\n",
            "[1] Standard Errors assume that the covariance matrix of the errors is correctly specified.\n"
          ]
        }
      ]
    },
    {
      "cell_type": "markdown",
      "source": [
        "Work with the [Customer churn](https://drive.google.com/file/d/1Ernmk97Gclk8FHgNn3XtD6Nt4FdaNhfB/view?usp=sharing) Dataset, Each row represents a customer over a year and whether the customer churned, and the target variable , 1 = yes or 0 = no.\n",
        "\n",
        "\n",
        "Check if there are any null values in the dataset, if yes fix it\n",
        "\n",
        "Create a logistic regression classifier from skitlearn\n",
        "\n",
        "Train the classifer on the train set\n",
        "\n",
        "Predict the outcomes on the test set\n",
        "\n",
        "Find out the confusion matrix\n",
        "\n",
        "Plot a labeled confusion matrix with Seaborn\n",
        "\n",
        "Show the Accuricy of the model\n",
        "\n"
      ],
      "metadata": {
        "id": "DseWj1dW20yQ"
      }
    },
    {
      "cell_type": "code",
      "source": [
        "import pandas as pd\n",
        "import seaborn as sns\n",
        "import matplotlib.pyplot as plt\n",
        "from sklearn.model_selection import train_test_split\n",
        "from sklearn.linear_model import LogisticRegression\n",
        "from sklearn.metrics import confusion_matrix, accuracy_score\n",
        "df = pd.read_csv('customer_churn.csv')\n",
        "\n",
        "if df.isnull().any().any():\n",
        "   df = df.dropna()\n",
        "X = df.drop('Churn',  axis=1)\n",
        "y = df['Churn']\n",
        "X_train, X_test, y_train, y_test = train_test_split(X, y, test_size=0.4, random_state=42)\n",
        "classifier = LogisticRegression()\n",
        "classifier.fit(X_train, y_train)\n",
        "y_pred = classifier.predict(X_test)\n",
        "cm = confusion_matrix(y_test, y_pred)\n",
        "sns.heatmap(cm, annot=True, fmt='g', cmap='Greens', annot_kws={\"size\": 20})\n",
        "plt.xlabel('Predicted')\n",
        "plt.ylabel('True')\n",
        "plt.title('Confusion Matrix')\n",
        "plt.show()\n",
        "accuracy = accuracy_score(y_test, y_pred)\n",
        "print(f'Accuracy: {accuracy:.4f}')"
      ],
      "metadata": {
        "id": "nbNrFdD3YzBG",
        "colab": {
          "base_uri": "https://localhost:8080/",
          "height": 648
        },
        "outputId": "0028913d-33db-403a-c3c1-35ca3e7e81ce"
      },
      "execution_count": 15,
      "outputs": [
        {
          "output_type": "stream",
          "name": "stderr",
          "text": [
            "/usr/local/lib/python3.10/dist-packages/sklearn/linear_model/_logistic.py:458: ConvergenceWarning: lbfgs failed to converge (status=1):\n",
            "STOP: TOTAL NO. of ITERATIONS REACHED LIMIT.\n",
            "\n",
            "Increase the number of iterations (max_iter) or scale the data as shown in:\n",
            "    https://scikit-learn.org/stable/modules/preprocessing.html\n",
            "Please also refer to the documentation for alternative solver options:\n",
            "    https://scikit-learn.org/stable/modules/linear_model.html#logistic-regression\n",
            "  n_iter_i = _check_optimize_result(\n"
          ]
        },
        {
          "output_type": "display_data",
          "data": {
            "text/plain": [
              "<Figure size 640x480 with 2 Axes>"
            ],
            "image/png": "[encoded data removed]"
          },
          "metadata": {}
        },
        {
          "output_type": "stream",
          "name": "stdout",
          "text": [
            "Accuracy: 0.8077\n"
          ]
        }
      ]
    },
    {
      "cell_type": "markdown",
      "source": [
        "Work with the [Bike Sharing Demand dataset](https://www.kaggle.com/c/bike-sharing-demand) available through Kaggle download dataset from [here](https://drive.google.com/file/d/1gkMDvMqVS5Xw0LAYllmnQFW2jb8mQXv8/view?usp=sharing).\n",
        "\n",
        "Import RandomForestRegressor from sklearn.ensemble.\n",
        "\n",
        "Instantiate a RandomForestRegressor called rf consisting of 25 trees.\n",
        "\n",
        "Fit rf to the training set"
      ],
      "metadata": {
        "id": "k4ZxqW2SYxYG"
      }
    },
    {
      "cell_type": "code",
      "source": [
        "import pandas as pd\n",
        "from sklearn.ensemble import RandomForestRegressor\n",
        "from sklearn.model_selection import train_test_split\n",
        "dataset_path = 'day.csv'\n",
        "bike_data = pd.read_csv(dataset_path)\n",
        "X_train, X_test, y_train, y_test = train_test_split(X, y, test_size=0.2, random_state=42)\n",
        "RaFo = RandomForestRegressor(n_estimators=25, random_state=42)\n",
        "RaFo.fit(X_train, y_train)"
      ],
      "metadata": {
        "id": "hXF5GnVkYyAO",
        "colab": {
          "base_uri": "https://localhost:8080/",
          "height": 74
        },
        "outputId": "67b97b83-eadc-458f-fde9-a9f87f288654"
      },
      "execution_count": 10,
      "outputs": [
        {
          "output_type": "execute_result",
          "data": {
            "text/plain": [
              "RandomForestRegressor(n_estimators=25, random_state=42)"
            ],
            "text/html": [
              "<style>#sk-container-id-2 {color: black;background-color: white;}#sk-container-id-2 pre{padding: 0;}#sk-container-id-2 div.sk-toggleable {background-color: white;}#sk-container-id-2 label.sk-toggleable__label {cursor: pointer;display: block;width: 100%;margin-bottom: 0;padding: 0.3em;box-sizing: border-box;text-align: center;}#sk-container-id-2 label.sk-toggleable__label-arrow:before {content: \"▸\";float: left;margin-right: 0.25em;color: #696969;}#sk-container-id-2 label.sk-toggleable__label-arrow:hover:before {color: black;}#sk-container-id-2 div.sk-estimator:hover label.sk-toggleable__label-arrow:before {color: black;}#sk-container-id-2 div.sk-toggleable__content {max-height: 0;max-width: 0;overflow: hidden;text-align: left;background-color: #f0f8ff;}#sk-container-id-2 div.sk-toggleable__content pre {margin: 0.2em;color: black;border-radius: 0.25em;background-color: #f0f8ff;}#sk-container-id-2 input.sk-toggleable__control:checked~div.sk-toggleable__content {max-height: 200px;max-width: 100%;overflow: auto;}#sk-container-id-2 input.sk-toggleable__control:checked~label.sk-toggleable__label-arrow:before {content: \"▾\";}#sk-container-id-2 div.sk-estimator input.sk-toggleable__control:checked~label.sk-toggleable__label {background-color: #d4ebff;}#sk-container-id-2 div.sk-label input.sk-toggleable__control:checked~label.sk-toggleable__label {background-color: #d4ebff;}#sk-container-id-2 input.sk-hidden--visually {border: 0;clip: rect(1px 1px 1px 1px);clip: rect(1px, 1px, 1px, 1px);height: 1px;margin: -1px;overflow: hidden;padding: 0;position: absolute;width: 1px;}#sk-container-id-2 div.sk-estimator {font-family: monospace;background-color: #f0f8ff;border: 1px dotted black;border-radius: 0.25em;box-sizing: border-box;margin-bottom: 0.5em;}#sk-container-id-2 div.sk-estimator:hover {background-color: #d4ebff;}#sk-container-id-2 div.sk-parallel-item::after {content: \"\";width: 100%;border-bottom: 1px solid gray;flex-grow: 1;}#sk-container-id-2 div.sk-label:hover label.sk-toggleable__label {background-color: #d4ebff;}#sk-container-id-2 div.sk-serial::before {content: \"\";position: absolute;border-left: 1px solid gray;box-sizing: border-box;top: 0;bottom: 0;left: 50%;z-index: 0;}#sk-container-id-2 div.sk-serial {display: flex;flex-direction: column;align-items: center;background-color: white;padding-right: 0.2em;padding-left: 0.2em;position: relative;}#sk-container-id-2 div.sk-item {position: relative;z-index: 1;}#sk-container-id-2 div.sk-parallel {display: flex;align-items: stretch;justify-content: center;background-color: white;position: relative;}#sk-container-id-2 div.sk-item::before, #sk-container-id-2 div.sk-parallel-item::before {content: \"\";position: absolute;border-left: 1px solid gray;box-sizing: border-box;top: 0;bottom: 0;left: 50%;z-index: -1;}#sk-container-id-2 div.sk-parallel-item {display: flex;flex-direction: column;z-index: 1;position: relative;background-color: white;}#sk-container-id-2 div.sk-parallel-item:first-child::after {align-self: flex-end;width: 50%;}#sk-container-id-2 div.sk-parallel-item:last-child::after {align-self: flex-start;width: 50%;}#sk-container-id-2 div.sk-parallel-item:only-child::after {width: 0;}#sk-container-id-2 div.sk-dashed-wrapped {border: 1px dashed gray;margin: 0 0.4em 0.5em 0.4em;box-sizing: border-box;padding-bottom: 0.4em;background-color: white;}#sk-container-id-2 div.sk-label label {font-family: monospace;font-weight: bold;display: inline-block;line-height: 1.2em;}#sk-container-id-2 div.sk-label-container {text-align: center;}#sk-container-id-2 div.sk-container {/* jupyter's `normalize.less` sets `[hidden] { display: none; }` but bootstrap.min.css set `[hidden] { display: none !important; }` so we also need the `!important` here to be able to override the default hidden behavior on the sphinx rendered scikit-learn.org. See: https://github.com/scikit-learn/scikit-learn/issues/21755 */display: inline-block !important;position: relative;}#sk-container-id-2 div.sk-text-repr-fallback {display: none;}</style><div id=\"sk-container-id-2\" class=\"sk-top-container\"><div class=\"sk-text-repr-fallback\"><pre>RandomForestRegressor(n_estimators=25, random_state=42)</pre><b>In a Jupyter environment, please rerun this cell to show the HTML representation or trust the notebook. <br />On GitHub, the HTML representation is unable to render, please try loading this page with nbviewer.org.</b></div><div class=\"sk-container\" hidden><div class=\"sk-item\"><div class=\"sk-estimator sk-toggleable\"><input class=\"sk-toggleable__control sk-hidden--visually\" id=\"sk-estimator-id-2\" type=\"checkbox\" checked><label for=\"sk-estimator-id-2\" class=\"sk-toggleable__label sk-toggleable__label-arrow\">RandomForestRegressor</label><div class=\"sk-toggleable__content\"><pre>RandomForestRegressor(n_estimators=25, random_state=42)</pre></div></div></div></div></div>"
            ]
          },
          "metadata": {},
          "execution_count": 10
        }
      ]
    }
  ]
}