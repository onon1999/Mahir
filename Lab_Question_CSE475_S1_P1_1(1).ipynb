{
  "nbformat": 4,
  "nbformat_minor": 0,
  "metadata": {
    "colab": {
      "provenance": []
    },
    "kernelspec": {
      "name": "python3",
      "display_name": "Python 3"
    },
    "language_info": {
      "name": "python"
    }
  },
  "cells": [
    {
      "cell_type": "markdown",
      "source": [
        "# **Lab Question Part 1 CSE475**"
      ],
      "metadata": {
        "id": "YMl5XtRpCaVQ"
      }
    },
    {
      "cell_type": "markdown",
      "source": [
        "All the datasets are uploaded to Google Drive and linked with this colab file, you can directly access those datasets, or you can download, However you have to take necessary steps to load and read datasets.\n",
        "\n",
        "For example, if you upload your dataset in your drive, you have to connect with your drive for do this run the drive.mount()\n",
        "\n",
        "For this part, you should spend 30 minutes only. No more than extra time will be given."
      ],
      "metadata": {
        "id": "1ocAfEtETshT"
      }
    },
    {
      "cell_type": "code",
      "source": [
        "from google.colab import drive\n",
        "drive.mount('/content/drive')"
      ],
      "metadata": {
        "id": "lm4mZuysT-BG",
        "colab": {
          "base_uri": "https://localhost:8080/"
        },
        "outputId": "8b386283-2bdb-4108-a3cd-5fac55db5ff1"
      },
      "execution_count": 2,
      "outputs": [
        {
          "output_type": "stream",
          "name": "stdout",
          "text": [
            "Mounted at /content/drive\n"
          ]
        }
      ]
    },
    {
      "cell_type": "markdown",
      "source": [
        "# Part 1"
      ],
      "metadata": {
        "id": "qZL98SUM1D5x"
      }
    },
    {
      "cell_type": "markdown",
      "source": [
        "Instantiate an indexing object by using the Index() function from recordlinkage.\n",
        "\n",
        "Block your pairing on cuisine_type by using indexer's' .block() method.\n",
        "\n",
        "Generate pairs by indexing [restaurants](https://drive.google.com/file/d/1eHR7sQ6UJ-165wxbHURafLekziO8pzBU/view?usp=sharing) and [restaurants_new](https://drive.google.com/file/d/1oi4gCbaM95-PQYIOGPV2U_IMwaaUtYRW/view?usp=sharing) in that order.\n",
        "\n",
        "Hint: Cleaning Data Assignment"
      ],
      "metadata": {
        "id": "keZ2C6xk7GuH"
      }
    },
    {
      "cell_type": "code",
      "source": [
        "!pip install recordlinkage\n",
        "\n",
        "import recordlinkage\n",
        "import pandas as pd\n",
        "restaurants = pd.read_csv(\"/content/restaurants_L2_dirty.csv\")\n",
        "restaurants_new = pd.read_csv(\"/content/restaurants_L2.csv\")\n",
        "indexer = recordlinkage.Index()\n",
        "indexer.full()\n",
        "blocks = indexer.block('type')\n",
        "pairs = indexer.index(restaurants, restaurants_new)\n",
        "print(pairs)\n",
        "\n",
        "\n",
        "\n"
      ],
      "metadata": {
        "id": "VBvshN1L4h7i",
        "colab": {
          "base_uri": "https://localhost:8080/"
        },
        "outputId": "163a1c95-92b9-47e8-e67b-c087397e5536"
      },
      "execution_count": 7,
      "outputs": [
        {
          "output_type": "stream",
          "name": "stdout",
          "text": [
            "Requirement already satisfied: recordlinkage in /usr/local/lib/python3.10/dist-packages (0.16)\n",
            "Requirement already satisfied: jellyfish>=1 in /usr/local/lib/python3.10/dist-packages (from recordlinkage) (1.0.3)\n",
            "Requirement already satisfied: numpy>=1.13 in /usr/local/lib/python3.10/dist-packages (from recordlinkage) (1.23.5)\n",
            "Requirement already satisfied: pandas<3,>=1 in /usr/local/lib/python3.10/dist-packages (from recordlinkage) (1.5.3)\n",
            "Requirement already satisfied: scipy>=1 in /usr/local/lib/python3.10/dist-packages (from recordlinkage) (1.11.4)\n",
            "Requirement already satisfied: scikit-learn>=1 in /usr/local/lib/python3.10/dist-packages (from recordlinkage) (1.2.2)\n",
            "Requirement already satisfied: joblib in /usr/local/lib/python3.10/dist-packages (from recordlinkage) (1.3.2)\n",
            "Requirement already satisfied: python-dateutil>=2.8.1 in /usr/local/lib/python3.10/dist-packages (from pandas<3,>=1->recordlinkage) (2.8.2)\n",
            "Requirement already satisfied: pytz>=2020.1 in /usr/local/lib/python3.10/dist-packages (from pandas<3,>=1->recordlinkage) (2023.3.post1)\n",
            "Requirement already satisfied: threadpoolctl>=2.0.0 in /usr/local/lib/python3.10/dist-packages (from scikit-learn>=1->recordlinkage) (3.2.0)\n",
            "Requirement already satisfied: six>=1.5 in /usr/local/lib/python3.10/dist-packages (from python-dateutil>=2.8.1->pandas<3,>=1->recordlinkage) (1.16.0)\n",
            "WARNING:recordlinkage:indexing - performance warning - A full index can result in large number of record pairs.\n"
          ]
        },
        {
          "output_type": "stream",
          "name": "stderr",
          "text": [
            "WARNING:recordlinkage:indexing - performance warning - A full index can result in large number of record pairs.\n"
          ]
        },
        {
          "output_type": "stream",
          "name": "stdout",
          "text": [
            "MultiIndex([( 0,   0),\n",
            "            ( 0,   1),\n",
            "            ( 0,   2),\n",
            "            ( 0,   3),\n",
            "            ( 0,   4),\n",
            "            ( 0,   5),\n",
            "            ( 0,   6),\n",
            "            ( 0,   7),\n",
            "            ( 0,   8),\n",
            "            ( 0,   9),\n",
            "            ...\n",
            "            (81, 326),\n",
            "            (81, 327),\n",
            "            (81, 328),\n",
            "            (81, 329),\n",
            "            (81, 330),\n",
            "            (81, 331),\n",
            "            (81, 332),\n",
            "            (81, 333),\n",
            "            (81, 334),\n",
            "            (81, 335)],\n",
            "           length=27552)\n"
          ]
        }
      ]
    },
    {
      "cell_type": "markdown",
      "source": [
        "Load the [audible_raw.csv](https://drive.google.com/file/d/1nU7pwDMSBG7KgIN_uJUhVRTSR4CBHdVh/view?usp=sharing) file and create a dataframe called audible\n",
        "\n",
        "Remove 'Writtenby:' from the author column\n",
        "\n",
        "Remove 'Narratedby:' from the narrator column\n",
        "\n",
        "Check the results"
      ],
      "metadata": {
        "id": "tEHswUG87NNL"
      }
    },
    {
      "cell_type": "code",
      "source": [
        "import pandas as pd\n",
        "audible = pd.read_csv(\"/content/audible_raw.csv\")\n",
        "audible['author'] = audible['author'].str.replace('Writtenby:', '')\n",
        "audible['narrator'] = audible['narrator'].str.replace('Narratedby:', '')\n",
        "print(audible.head())"
      ],
      "metadata": {
        "id": "VXEXI9YH7NNM",
        "colab": {
          "base_uri": "https://localhost:8080/"
        },
        "outputId": "bef30948-2283-4261-b96b-4e95113971f2"
      },
      "execution_count": 9,
      "outputs": [
        {
          "output_type": "stream",
          "name": "stdout",
          "text": [
            "                                         name           author  \\\n",
            "0                  Geronimo Stilton #11 & #12  GeronimoStilton   \n",
            "1                            The Burning Maze      RickRiordan   \n",
            "2                                The Deep End       JeffKinney   \n",
            "3                        Daughter of the Deep      RickRiordan   \n",
            "4  The Lightning Thief: Percy Jackson, Book 1      RickRiordan   \n",
            "\n",
            "         narrator                time releasedate language  \\\n",
            "0      BillLobely   2 hrs and 20 mins    04-08-08  English   \n",
            "1   RobbieDaymond   13 hrs and 8 mins    01-05-18  English   \n",
            "2      DanRussell    2 hrs and 3 mins    06-11-20  English   \n",
            "3  SoneelaNankani  11 hrs and 16 mins    05-10-21  English   \n",
            "4  JesseBernstein              10 hrs    13-01-10  English   \n",
            "\n",
            "                           stars   price  \n",
            "0     5 out of 5 stars34 ratings  468.00  \n",
            "1   4.5 out of 5 stars41 ratings  820.00  \n",
            "2   4.5 out of 5 stars38 ratings  410.00  \n",
            "3   4.5 out of 5 stars12 ratings  615.00  \n",
            "4  4.5 out of 5 stars181 ratings  820.00  \n"
          ]
        }
      ]
    },
    {
      "cell_type": "markdown",
      "source": [
        "use .str.extract() to get the number of stars and the number of ratings into their own columns.\n",
        "\n",
        "Extract the number of stars into the rating_stars column\n",
        "Extract the number of ratings into the n_ratings column\n",
        "Convert both new columns to float\n",
        "What you have to do?\n",
        "\n",
        "Extract number of stars into rating_stars and turn into float\n",
        "\n",
        "Replace the comma, extract number of ratings into n_ratings and turn into float\n",
        "\n",
        "Examine the new rating_stars and n_ratings columns"
      ],
      "metadata": {
        "id": "5iBKNMDK5vBG"
      }
    },
    {
      "cell_type": "code",
      "source": [
        "import pandas as pd\n",
        "audible = pd.read_csv(\"/content/audible_raw.csv\")\n",
        "import pandas as pd\n",
        "\n",
        "audible['rating_stars'] = audible['stars'].str.extract('(\\d+\\.\\d+|\\d+)').astype(float)\n",
        "\n",
        "# Replace the comma, extract the number of ratings into the 'n_ratings' column\n",
        "audible['n_ratings'] = audible['stars'].str.replace(',', '').str.extract('(\\d+\\.\\d+|\\d+)').astype(float)\n",
        "\n",
        "# Examine the new 'rating_stars' and 'n_ratings' columns\n",
        "print(audible[['rating_stars', 'n_ratings']].head())\n"
      ],
      "metadata": {
        "id": "r16Nr5VU5vBG",
        "colab": {
          "base_uri": "https://localhost:8080/"
        },
        "outputId": "b0bad1a2-f2dc-441b-82a0-b2464e885c1b"
      },
      "execution_count": 8,
      "outputs": [
        {
          "output_type": "stream",
          "name": "stdout",
          "text": [
            "   rating_stars  n_ratings\n",
            "0           5.0        5.0\n",
            "1           4.5        4.5\n",
            "2           4.5        4.5\n",
            "3           4.5        4.5\n",
            "4           4.5        4.5\n"
          ]
        }
      ]
    }
  ]
}