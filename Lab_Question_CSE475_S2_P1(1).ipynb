{
  "nbformat": 4,
  "nbformat_minor": 0,
  "metadata": {
    "colab": {
      "provenance": []
    },
    "kernelspec": {
      "name": "python3",
      "display_name": "Python 3"
    },
    "language_info": {
      "name": "python"
    }
  },
  "cells": [
    {
      "cell_type": "markdown",
      "source": [
        "# **Lab Question Part 1 CSE475**"
      ],
      "metadata": {
        "id": "YMl5XtRpCaVQ"
      }
    },
    {
      "cell_type": "markdown",
      "source": [
        "All the datasets are uploaded to Google Drive and linked with this colab file, you can directly access those datasets, or you can download, However you have to take necessary steps to load datasets.\n",
        "\n",
        "For example, if you upload your dataset in your drive, you have to connect with your drive for do this run the drive.mount()\n",
        "\n",
        "For this part, you should spend 30 minutes only. No more than extra time will be given."
      ],
      "metadata": {
        "id": "nmHdG_5eeGCm"
      }
    },
    {
      "cell_type": "code",
      "source": [
        "from google.colab import drive\n",
        "drive.mount('/content/drive')"
      ],
      "metadata": {
        "id": "lm4mZuysT-BG"
      },
      "execution_count": null,
      "outputs": []
    },
    {
      "cell_type": "markdown",
      "source": [
        "# Part 1"
      ],
      "metadata": {
        "id": "qZL98SUM1D5x"
      }
    },
    {
      "cell_type": "markdown",
      "source": [
        "Instantiate an indexing object by using the Index() function from recordlinkage.\n",
        "\n",
        "Block your pairing on cuisine_type by using indexer's' .block() method.\n",
        "\n",
        "Generate pairs by indexing [restaurants](https://drive.google.com/file/d/1eHR7sQ6UJ-165wxbHURafLekziO8pzBU/view?usp=sharing) and [restaurants_new](https://drive.google.com/file/d/1oi4gCbaM95-PQYIOGPV2U_IMwaaUtYRW/view?usp=sharing) in that order.\n",
        "\n",
        "Hint: Cleaning Data Assignment"
      ],
      "metadata": {
        "id": "keZ2C6xk7GuH"
      }
    },
    {
      "cell_type": "code",
      "source": [],
      "metadata": {
        "id": "VBvshN1L4h7i"
      },
      "execution_count": null,
      "outputs": []
    },
    {
      "cell_type": "markdown",
      "source": [
        "Load the [audible_raw.csv](https://drive.google.com/file/d/1nU7pwDMSBG7KgIN_uJUhVRTSR4CBHdVh/view?usp=sharing) file and create a dataframe called audible\n",
        "\n",
        "Remove 'Writtenby:' from the author column\n",
        "\n",
        "Remove 'Narratedby:' from the narrator column\n",
        "\n",
        "Check the results"
      ],
      "metadata": {
        "id": "tEHswUG87NNL"
      }
    },
    {
      "cell_type": "code",
      "source": [],
      "metadata": {
        "id": "VXEXI9YH7NNM"
      },
      "execution_count": null,
      "outputs": []
    },
    {
      "cell_type": "markdown",
      "source": [
        "use .str.extract() to get the number of stars and the number of ratings into their own columns.\n",
        "\n",
        "Extract the number of stars into the rating_stars column\n",
        "Extract the number of ratings into the n_ratings column\n",
        "Convert both new columns to float\n",
        "What you have to do?\n",
        "\n",
        "Extract number of stars into rating_stars and turn into float\n",
        "\n",
        "Replace the comma, extract number of ratings into n_ratings and turn into float\n",
        "\n",
        "Examine the new rating_stars and n_ratings columns"
      ],
      "metadata": {
        "id": "5iBKNMDK5vBG"
      }
    },
    {
      "cell_type": "code",
      "source": [],
      "metadata": {
        "id": "r16Nr5VU5vBG"
      },
      "execution_count": null,
      "outputs": []
    }
  ]
}