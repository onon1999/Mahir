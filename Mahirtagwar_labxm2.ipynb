{
  "nbformat": 4,
  "nbformat_minor": 0,
  "metadata": {
    "colab": {
      "provenance": []
    },
    "kernelspec": {
      "name": "python3",
      "display_name": "Python 3"
    },
    "language_info": {
      "name": "python"
    }
  },
  "cells": [
    {
      "cell_type": "code",
      "source": [
        "# Import necessary libraries\n",
        "import pandas as pd\n",
        "from mlxtend.frequent_patterns import apriori, association_rules\n",
        "\n",
        "# Load the dataset\n",
        "url = '/content/DataSetA.xls'  # Replace with the actual URL or path to your dataset\n",
        "dataset = pd.read_csv(url, usecols=range(7))\n",
        "\n",
        "# Display the first few rows of the dataset\n",
        "print(dataset.head())"
      ],
      "metadata": {
        "colab": {
          "base_uri": "https://localhost:8080/"
        },
        "id": "9Qbm4ocZdS6F",
        "outputId": "4d189b10-2635-46c1-87a4-e83d2bd5e7f3"
      },
      "execution_count": 11,
      "outputs": [
        {
          "output_type": "stream",
          "name": "stdout",
          "text": [
            "    Lassi  Coffee Powder         Butter        Yougurt    Ghee Cheese  \\\n",
            "0    Ghee  Coffee Powder            NaN            NaN     NaN    NaN   \n",
            "1   Lassi     Tea Powder         Butter         Cheese     NaN    NaN   \n",
            "2  Cheese     Tea Powder         Panner  Coffee Powder  Butter  Bread   \n",
            "3  Cheese        Yougurt  Coffee Powder          Sugar  Butter  Sweet   \n",
            "4   Sugar     Tea Powder           Ghee          Sweet  Panner   Milk   \n",
            "\n",
            "  Unnamed: 6  \n",
            "0        NaN  \n",
            "1        NaN  \n",
            "2        NaN  \n",
            "3        NaN  \n",
            "4        NaN  \n"
          ]
        }
      ]
    },
    {
      "cell_type": "code",
      "source": [
        "# Check for null values in each column\n",
        "null_values = dataset.isnull().sum()\n",
        "print(\"Null values in each column:\")\n",
        "print(null_values)\n",
        "\n",
        "# Check if there are any null values in the entire DataFrame\n",
        "if dataset.isnull().any().any():\n",
        "    print(\"There are null values in the dataset.\")\n",
        "else:\n",
        "    print(\"No null values found in the dataset.\")\n"
      ],
      "metadata": {
        "colab": {
          "base_uri": "https://localhost:8080/"
        },
        "id": "22pz9mSed7s8",
        "outputId": "40ca6caf-9a14-4613-8f8f-c66cd0eafef5"
      },
      "execution_count": 13,
      "outputs": [
        {
          "output_type": "stream",
          "name": "stdout",
          "text": [
            "Null values in each column:\n",
            "Lassi               0\n",
            "Coffee Powder       0\n",
            "Butter           1402\n",
            "Yougurt          2994\n",
            "Ghee             4660\n",
            "Cheese           6607\n",
            "Unnamed: 6       8731\n",
            "dtype: int64\n",
            "There are null values in the dataset.\n"
          ]
        },
        {
          "output_type": "stream",
          "name": "stderr",
          "text": [
            "/usr/local/lib/python3.10/dist-packages/ipykernel/ipkernel.py:283: DeprecationWarning: `should_run_async` will not call `transform_cell` automatically in the future. Please pass the result to `transformed_cell` argument and any exception that happen during thetransform in `preprocessing_exc_tuple` in IPython 7.17 and above.\n",
            "  and should_run_async(code)\n"
          ]
        }
      ]
    },
    {
      "cell_type": "code",
      "source": [
        "# Drop rows with null values\n",
        "dataset_dropped = dataset.dropna()\n",
        "\n",
        "# Display the first few rows of the dataset after dropping null values\n",
        "print(\"First few rows of the dataset after dropping null values:\")\n",
        "print(dataset_dropped.head())\n"
      ],
      "metadata": {
        "colab": {
          "base_uri": "https://localhost:8080/"
        },
        "id": "aolUo-lJeLHL",
        "outputId": "b4327f24-804d-4eea-ea85-3653076dcb25"
      },
      "execution_count": 15,
      "outputs": [
        {
          "output_type": "stream",
          "name": "stdout",
          "text": [
            "First few rows of the dataset after dropping null values:\n",
            "     Lassi  Coffee Powder         Butter     Yougurt           Ghee  \\\n",
            "10    Ghee  Coffee Powder           Milk     Yougurt          Lassi   \n",
            "12   Bread          Lassi  Coffee Powder  Tea Powder          Sweet   \n",
            "18  Panner          Lassi         Butter      Cheese        Yougurt   \n",
            "24   Lassi        Yougurt           Ghee      Cheese         Butter   \n",
            "35    Ghee          Bread         Cheese       Sugar  Coffee Powder   \n",
            "\n",
            "        Cheese Unnamed: 6  \n",
            "10       Sugar     Butter  \n",
            "12        Ghee      Sugar  \n",
            "18  Tea Powder       Milk  \n",
            "24        Milk     Panner  \n",
            "35       Sweet    Yougurt  \n"
          ]
        },
        {
          "output_type": "stream",
          "name": "stderr",
          "text": [
            "/usr/local/lib/python3.10/dist-packages/ipykernel/ipkernel.py:283: DeprecationWarning: `should_run_async` will not call `transform_cell` automatically in the future. Please pass the result to `transformed_cell` argument and any exception that happen during thetransform in `preprocessing_exc_tuple` in IPython 7.17 and above.\n",
            "  and should_run_async(code)\n"
          ]
        }
      ]
    },
    {
      "cell_type": "code",
      "source": [
        "# Assuming your dataset is already loaded and processed, and null values are handled\n",
        "# Run apriori algorithm\n",
        "frequent_itemsets = apriori(dataset_dropped, min_support=0.7, use_colnames=True)\n",
        "\n",
        "# Generate association rules\n",
        "rules = association_rules(frequent_itemsets, metric=\"confidence\", min_threshold=0.7)\n",
        "\n",
        "# Sort rules by confidence in descending order\n",
        "rules_sorted = rules.sort_values(by='confidence', ascending=False)\n",
        "\n",
        "# Print the top 20 association rules\n",
        "print(\"Top 20 association rules:\")\n",
        "print(rules_sorted.head(20))\n"
      ],
      "metadata": {
        "colab": {
          "base_uri": "https://localhost:8080/",
          "height": 446
        },
        "id": "2V61RD9xfav0",
        "outputId": "bd56c6b8-5343-445a-f9c3-d56e83924046"
      },
      "execution_count": 29,
      "outputs": [
        {
          "output_type": "stream",
          "name": "stderr",
          "text": [
            "/usr/local/lib/python3.10/dist-packages/ipykernel/ipkernel.py:283: DeprecationWarning: `should_run_async` will not call `transform_cell` automatically in the future. Please pass the result to `transformed_cell` argument and any exception that happen during thetransform in `preprocessing_exc_tuple` in IPython 7.17 and above.\n",
            "  and should_run_async(code)\n",
            "/usr/local/lib/python3.10/dist-packages/mlxtend/frequent_patterns/fpcommon.py:110: DeprecationWarning: DataFrames with non-bool types result in worse computationalperformance and their support might be discontinued in the future.Please use a DataFrame with bool type\n",
            "  warnings.warn(\n"
          ]
        },
        {
          "output_type": "error",
          "ename": "ValueError",
          "evalue": "The allowed values for a DataFrame are True, False, 0, 1. Found value Ghee",
          "traceback": [
            "\u001b[0;31m---------------------------------------------------------------------------\u001b[0m",
            "\u001b[0;31mValueError\u001b[0m                                Traceback (most recent call last)",
            "\u001b[0;32m<ipython-input-29-1992323e20f7>\u001b[0m in \u001b[0;36m<cell line: 3>\u001b[0;34m()\u001b[0m\n\u001b[1;32m      1\u001b[0m \u001b[0;31m# Assuming your dataset is already loaded and processed, and null values are handled\u001b[0m\u001b[0;34m\u001b[0m\u001b[0;34m\u001b[0m\u001b[0m\n\u001b[1;32m      2\u001b[0m \u001b[0;31m# Run apriori algorithm\u001b[0m\u001b[0;34m\u001b[0m\u001b[0;34m\u001b[0m\u001b[0m\n\u001b[0;32m----> 3\u001b[0;31m \u001b[0mfrequent_itemsets\u001b[0m \u001b[0;34m=\u001b[0m \u001b[0mapriori\u001b[0m\u001b[0;34m(\u001b[0m\u001b[0mdataset_dropped\u001b[0m\u001b[0;34m,\u001b[0m \u001b[0mmin_support\u001b[0m\u001b[0;34m=\u001b[0m\u001b[0;36m0.7\u001b[0m\u001b[0;34m,\u001b[0m \u001b[0muse_colnames\u001b[0m\u001b[0;34m=\u001b[0m\u001b[0;32mTrue\u001b[0m\u001b[0;34m)\u001b[0m\u001b[0;34m\u001b[0m\u001b[0;34m\u001b[0m\u001b[0m\n\u001b[0m\u001b[1;32m      4\u001b[0m \u001b[0;34m\u001b[0m\u001b[0m\n\u001b[1;32m      5\u001b[0m \u001b[0;31m# Generate association rules\u001b[0m\u001b[0;34m\u001b[0m\u001b[0;34m\u001b[0m\u001b[0m\n",
            "\u001b[0;32m/usr/local/lib/python3.10/dist-packages/mlxtend/frequent_patterns/apriori.py\u001b[0m in \u001b[0;36mapriori\u001b[0;34m(df, min_support, use_colnames, max_len, verbose, low_memory)\u001b[0m\n\u001b[1;32m    239\u001b[0m         )\n\u001b[1;32m    240\u001b[0m \u001b[0;34m\u001b[0m\u001b[0m\n\u001b[0;32m--> 241\u001b[0;31m     \u001b[0mfpc\u001b[0m\u001b[0;34m.\u001b[0m\u001b[0mvalid_input_check\u001b[0m\u001b[0;34m(\u001b[0m\u001b[0mdf\u001b[0m\u001b[0;34m)\u001b[0m\u001b[0;34m\u001b[0m\u001b[0;34m\u001b[0m\u001b[0m\n\u001b[0m\u001b[1;32m    242\u001b[0m \u001b[0;34m\u001b[0m\u001b[0m\n\u001b[1;32m    243\u001b[0m     \u001b[0;32mif\u001b[0m \u001b[0mhasattr\u001b[0m\u001b[0;34m(\u001b[0m\u001b[0mdf\u001b[0m\u001b[0;34m,\u001b[0m \u001b[0;34m\"sparse\"\u001b[0m\u001b[0;34m)\u001b[0m\u001b[0;34m:\u001b[0m\u001b[0;34m\u001b[0m\u001b[0;34m\u001b[0m\u001b[0m\n",
            "\u001b[0;32m/usr/local/lib/python3.10/dist-packages/mlxtend/frequent_patterns/fpcommon.py\u001b[0m in \u001b[0;36mvalid_input_check\u001b[0;34m(df)\u001b[0m\n\u001b[1;32m    130\u001b[0m                 \u001b[0;34m\" are True, False, 0, 1. Found value %s\"\u001b[0m \u001b[0;34m%\u001b[0m \u001b[0;34m(\u001b[0m\u001b[0mval\u001b[0m\u001b[0;34m)\u001b[0m\u001b[0;34m\u001b[0m\u001b[0;34m\u001b[0m\u001b[0m\n\u001b[1;32m    131\u001b[0m             )\n\u001b[0;32m--> 132\u001b[0;31m             \u001b[0;32mraise\u001b[0m \u001b[0mValueError\u001b[0m\u001b[0;34m(\u001b[0m\u001b[0ms\u001b[0m\u001b[0;34m)\u001b[0m\u001b[0;34m\u001b[0m\u001b[0;34m\u001b[0m\u001b[0m\n\u001b[0m\u001b[1;32m    133\u001b[0m \u001b[0;34m\u001b[0m\u001b[0m\n\u001b[1;32m    134\u001b[0m \u001b[0;34m\u001b[0m\u001b[0m\n",
            "\u001b[0;31mValueError\u001b[0m: The allowed values for a DataFrame are True, False, 0, 1. Found value Ghee"
          ]
        }
      ]
    },
    {
      "cell_type": "code",
      "source": [
        "# Perform one-hot encoding\n",
        "dataset_encoded = pd.get_dummies(dataset_dropped)\n",
        "\n",
        "# Run apriori algorithm\n",
        "frequent_itemsets = apriori(dataset_encoded, min_support=0.1, use_colnames=True)\n",
        "\n",
        "# Generate association rules\n",
        "rules = association_rules(frequent_itemsets, metric=\"confidence\", min_threshold=0.7)\n",
        "\n",
        "# Sort rules by confidence in descending order\n",
        "rules_sorted = rules.sort_values(by='confidence', ascending=False)\n",
        "\n",
        "# Print the top 20 association rules\n",
        "print(\"Top 20 association rules:\")\n",
        "print(rules_sorted.head(20))\n"
      ],
      "metadata": {
        "colab": {
          "base_uri": "https://localhost:8080/",
          "height": 404
        },
        "id": "my0xGxDNfqcK",
        "outputId": "6bdd72d6-8d23-42bb-ad9c-4f23c29ea2ad"
      },
      "execution_count": 30,
      "outputs": [
        {
          "output_type": "stream",
          "name": "stderr",
          "text": [
            "/usr/local/lib/python3.10/dist-packages/ipykernel/ipkernel.py:283: DeprecationWarning: `should_run_async` will not call `transform_cell` automatically in the future. Please pass the result to `transformed_cell` argument and any exception that happen during thetransform in `preprocessing_exc_tuple` in IPython 7.17 and above.\n",
            "  and should_run_async(code)\n"
          ]
        },
        {
          "output_type": "error",
          "ename": "ValueError",
          "evalue": "The input DataFrame `df` containing the frequent itemsets is empty.",
          "traceback": [
            "\u001b[0;31m---------------------------------------------------------------------------\u001b[0m",
            "\u001b[0;31mValueError\u001b[0m                                Traceback (most recent call last)",
            "\u001b[0;32m<ipython-input-30-4e5523a46df6>\u001b[0m in \u001b[0;36m<cell line: 8>\u001b[0;34m()\u001b[0m\n\u001b[1;32m      6\u001b[0m \u001b[0;34m\u001b[0m\u001b[0m\n\u001b[1;32m      7\u001b[0m \u001b[0;31m# Generate association rules\u001b[0m\u001b[0;34m\u001b[0m\u001b[0;34m\u001b[0m\u001b[0m\n\u001b[0;32m----> 8\u001b[0;31m \u001b[0mrules\u001b[0m \u001b[0;34m=\u001b[0m \u001b[0massociation_rules\u001b[0m\u001b[0;34m(\u001b[0m\u001b[0mfrequent_itemsets\u001b[0m\u001b[0;34m,\u001b[0m \u001b[0mmetric\u001b[0m\u001b[0;34m=\u001b[0m\u001b[0;34m\"confidence\"\u001b[0m\u001b[0;34m,\u001b[0m \u001b[0mmin_threshold\u001b[0m\u001b[0;34m=\u001b[0m\u001b[0;36m0.7\u001b[0m\u001b[0;34m)\u001b[0m\u001b[0;34m\u001b[0m\u001b[0;34m\u001b[0m\u001b[0m\n\u001b[0m\u001b[1;32m      9\u001b[0m \u001b[0;34m\u001b[0m\u001b[0m\n\u001b[1;32m     10\u001b[0m \u001b[0;31m# Sort rules by confidence in descending order\u001b[0m\u001b[0;34m\u001b[0m\u001b[0;34m\u001b[0m\u001b[0m\n",
            "\u001b[0;32m/usr/local/lib/python3.10/dist-packages/mlxtend/frequent_patterns/association_rules.py\u001b[0m in \u001b[0;36massociation_rules\u001b[0;34m(df, metric, min_threshold, support_only)\u001b[0m\n\u001b[1;32m     81\u001b[0m     \"\"\"\n\u001b[1;32m     82\u001b[0m     \u001b[0;32mif\u001b[0m \u001b[0;32mnot\u001b[0m \u001b[0mdf\u001b[0m\u001b[0;34m.\u001b[0m\u001b[0mshape\u001b[0m\u001b[0;34m[\u001b[0m\u001b[0;36m0\u001b[0m\u001b[0;34m]\u001b[0m\u001b[0;34m:\u001b[0m\u001b[0;34m\u001b[0m\u001b[0;34m\u001b[0m\u001b[0m\n\u001b[0;32m---> 83\u001b[0;31m         raise ValueError(\n\u001b[0m\u001b[1;32m     84\u001b[0m             \u001b[0;34m\"The input DataFrame `df` containing \"\u001b[0m \u001b[0;34m\"the frequent itemsets is empty.\"\u001b[0m\u001b[0;34m\u001b[0m\u001b[0;34m\u001b[0m\u001b[0m\n\u001b[1;32m     85\u001b[0m         )\n",
            "\u001b[0;31mValueError\u001b[0m: The input DataFrame `df` containing the frequent itemsets is empty."
          ]
        }
      ]
    },
    {
      "cell_type": "code",
      "source": [
        "# Run apriori algorithm with a lower min_support value\n",
        "frequent_itemsets = apriori(dataset_encoded, min_support=0.01, use_colnames=True)\n",
        "\n",
        "# Generate association rules\n",
        "rules = association_rules(frequent_itemsets, metric=\"confidence\", min_threshold=0.7)\n",
        "\n",
        "# Sort rules by confidence in descending order\n",
        "rules_sorted = rules.sort_values(by='confidence', ascending=False)\n",
        "\n",
        "# Print the top 20 association rules\n",
        "print(\"Top 20 association rules:\")\n",
        "print(rules_sorted.head(20))\n"
      ],
      "metadata": {
        "colab": {
          "base_uri": "https://localhost:8080/"
        },
        "id": "YAZIrFNzgYsh",
        "outputId": "6ed8f2a2-bd5c-4daf-fe00-4e6ca2ce0c50"
      },
      "execution_count": 31,
      "outputs": [
        {
          "output_type": "stream",
          "name": "stdout",
          "text": [
            "Top 20 association rules:\n",
            "Empty DataFrame\n",
            "Columns: [antecedents, consequents, antecedent support, consequent support, support, confidence, lift, leverage, conviction, zhangs_metric]\n",
            "Index: []\n"
          ]
        },
        {
          "output_type": "stream",
          "name": "stderr",
          "text": [
            "/usr/local/lib/python3.10/dist-packages/ipykernel/ipkernel.py:283: DeprecationWarning: `should_run_async` will not call `transform_cell` automatically in the future. Please pass the result to `transformed_cell` argument and any exception that happen during thetransform in `preprocessing_exc_tuple` in IPython 7.17 and above.\n",
            "  and should_run_async(code)\n"
          ]
        }
      ]
    },
    {
      "cell_type": "code",
      "source": [
        "# Run apriori algorithm with lower thresholds\n",
        "frequent_itemsets = apriori(dataset_encoded, min_support=0.01, use_colnames=True)\n",
        "rules = association_rules(frequent_itemsets, metric=\"confidence\", min_threshold=0.1)  # Adjust min_threshold\n",
        "rules_sorted = rules.sort_values(by='confidence', ascending=False)\n",
        "\n",
        "# Print the top 20 association rules\n",
        "print(\"Top 20 association rules:\")\n",
        "print(rules_sorted.head(20))\n"
      ],
      "metadata": {
        "colab": {
          "base_uri": "https://localhost:8080/"
        },
        "id": "sGC5mIfDgmj5",
        "outputId": "739aac73-c519-48b5-9b2e-c8e495edfffc"
      },
      "execution_count": 32,
      "outputs": [
        {
          "output_type": "stream",
          "name": "stdout",
          "text": [
            "Top 20 association rules:\n",
            "                    antecedents                 consequents  \\\n",
            "136               (Ghee_Panner)       (Coffee Powder_Sweet)   \n",
            "137       (Coffee Powder_Sweet)               (Ghee_Panner)   \n",
            "301            (Cheese_Yougurt)          (Unnamed: 6_Lassi)   \n",
            "126           (Unnamed: 6_Milk)       (Coffee Powder_Sugar)   \n",
            "202             (Cheese_Cheese)            (Butter_Yougurt)   \n",
            "98        (Coffee Powder_Lassi)        (Yougurt_Tea Powder)   \n",
            "147  (Coffee Powder_Tea Powder)          (Unnamed: 6_Sugar)   \n",
            "175              (Butter_Lassi)            (Yougurt_Butter)   \n",
            "121       (Coffee Powder_Sugar)            (Yougurt_Butter)   \n",
            "153             (Yougurt_Sweet)             (Butter_Butter)   \n",
            "15               (Lassi_Cheese)         (Unnamed: 6_Panner)   \n",
            "22            (Unnamed: 6_Milk)       (Lassi_Coffee Powder)   \n",
            "103       (Coffee Powder_Lassi)          (Unnamed: 6_Sweet)   \n",
            "33                 (Ghee_Lassi)                (Lassi_Ghee)   \n",
            "174            (Yougurt_Butter)              (Butter_Lassi)   \n",
            "120            (Yougurt_Butter)       (Coffee Powder_Sugar)   \n",
            "146          (Unnamed: 6_Sugar)  (Coffee Powder_Tea Powder)   \n",
            "31              (Yougurt_Sweet)                (Lassi_Ghee)   \n",
            "269        (Ghee_Coffee Powder)          (Unnamed: 6_Lassi)   \n",
            "253           (Yougurt_Yougurt)      (Cheese_Coffee Powder)   \n",
            "\n",
            "     antecedent support  consequent support   support  confidence      lift  \\\n",
            "136            0.085662            0.089352  0.013706    0.160000  1.790678   \n",
            "137            0.089352            0.085662  0.013706    0.153392  1.790678   \n",
            "301            0.081444            0.090933  0.011861    0.145631  1.601520   \n",
            "126            0.078281            0.084607  0.011334    0.144781  1.711214   \n",
            "202            0.078545            0.085134  0.011334    0.144295  1.694911   \n",
            "98             0.082235            0.089352  0.011861    0.144231  1.614193   \n",
            "147            0.078809            0.080917  0.011334    0.143813  1.777281   \n",
            "175            0.084607            0.086452  0.012124    0.143302  1.657587   \n",
            "121            0.084607            0.086452  0.012124    0.143302  1.657587   \n",
            "153            0.079336            0.093305  0.011334    0.142857  1.531073   \n",
            "15             0.081444            0.086979  0.011597    0.142395  1.637109   \n",
            "22             0.078281            0.086716  0.011070    0.141414  1.630776   \n",
            "103            0.082235            0.090933  0.011597    0.141026  1.550873   \n",
            "33             0.080390            0.086452  0.011334    0.140984  1.630768   \n",
            "174            0.086452            0.084607  0.012124    0.140244  1.657587   \n",
            "120            0.086452            0.084607  0.012124    0.140244  1.657587   \n",
            "146            0.080917            0.078809  0.011334    0.140065  1.777281   \n",
            "31             0.079336            0.086452  0.011070    0.139535  1.614010   \n",
            "269            0.081972            0.090933  0.011334    0.138264  1.520500   \n",
            "253            0.081972            0.091987  0.011334    0.138264  1.503073   \n",
            "\n",
            "     leverage  conviction  zhangs_metric  \n",
            "136  0.006052    1.084105       0.482920  \n",
            "137  0.006052    1.080003       0.484877  \n",
            "301  0.004455    1.064022       0.408895  \n",
            "126  0.004711    1.070361       0.450918  \n",
            "202  0.004647    1.069137       0.444947  \n",
            "98   0.004513    1.064128       0.414589  \n",
            "147  0.004957    1.073460       0.474758  \n",
            "175  0.004810    1.066359       0.433380  \n",
            "121  0.004810    1.066359       0.433380  \n",
            "153  0.003931    1.057811       0.376754  \n",
            "15   0.004513    1.064616       0.423673  \n",
            "22   0.004282    1.063707       0.419645  \n",
            "103  0.004119    1.058317       0.387029  \n",
            "33   0.004384    1.063481       0.420604  \n",
            "174  0.004810    1.064712       0.434256  \n",
            "120  0.004810    1.064712       0.434256  \n",
            "146  0.004957    1.071234       0.475847  \n",
            "31   0.004211    1.061691       0.413207  \n",
            "269  0.003880    1.054925       0.372888  \n",
            "253  0.003793    1.053701       0.364581  \n"
          ]
        },
        {
          "output_type": "stream",
          "name": "stderr",
          "text": [
            "/usr/local/lib/python3.10/dist-packages/ipykernel/ipkernel.py:283: DeprecationWarning: `should_run_async` will not call `transform_cell` automatically in the future. Please pass the result to `transformed_cell` argument and any exception that happen during thetransform in `preprocessing_exc_tuple` in IPython 7.17 and above.\n",
            "  and should_run_async(code)\n"
          ]
        }
      ]
    }
  ]
}